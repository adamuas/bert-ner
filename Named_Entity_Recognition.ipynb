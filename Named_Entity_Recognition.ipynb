{
  "nbformat": 4,
  "nbformat_minor": 0,
  "metadata": {
    "kernelspec": {
      "display_name": "Python 3",
      "language": "python",
      "name": "python3"
    },
    "language_info": {
      "codemirror_mode": {
        "name": "ipython",
        "version": 3
      },
      "file_extension": ".py",
      "mimetype": "text/x-python",
      "name": "python",
      "nbconvert_exporter": "python",
      "pygments_lexer": "ipython3",
      "version": "3.6.8"
    },
    "colab": {
      "name": "Named Entity Recognition.ipynb",
      "provenance": [],
      "collapsed_sections": []
    },
    "accelerator": "TPU"
  },
  "cells": [
    {
      "cell_type": "markdown",
      "metadata": {
        "id": "SVbCOskFWJ0y"
      },
      "source": [
        "# Named Entity Recognition\n",
        "@author: Abdullahi S. Adamu"
      ]
    },
    {
      "cell_type": "code",
      "metadata": {
        "id": "gPN_0L40WJ0s"
      },
      "source": [
        "# Handle depencies "
      ],
      "execution_count": 1,
      "outputs": []
    },
    {
      "cell_type": "code",
      "metadata": {
        "colab": {
          "base_uri": "https://localhost:8080/"
        },
        "id": "ZPeBf6vXWJ0x",
        "outputId": "cd76843a-4397-45e4-e64b-4fe280ef0450"
      },
      "source": [
        "!pip3 install --upgrade pip\n",
        "# !pip3 install -r requirements.txt"
      ],
      "execution_count": 2,
      "outputs": [
        {
          "output_type": "stream",
          "text": [
            "Requirement already satisfied: pip in /usr/local/lib/python3.6/dist-packages (20.3.1)\n"
          ],
          "name": "stdout"
        }
      ]
    },
    {
      "cell_type": "code",
      "metadata": {
        "id": "hUcka-jwWcCj"
      },
      "source": [
        "# A dependency of the preprocessing for BERT inputs\n",
        "!pip install -q tensorflow-text"
      ],
      "execution_count": 3,
      "outputs": []
    },
    {
      "cell_type": "code",
      "metadata": {
        "id": "Eu8i7RBNWghV"
      },
      "source": [
        "!pip install -q tf-models-official"
      ],
      "execution_count": 4,
      "outputs": []
    },
    {
      "cell_type": "code",
      "metadata": {
        "id": "4AbZ9_PkXAAy"
      },
      "source": [
        "import os\n",
        "import shutil\n",
        "import pandas as pd\n",
        "from glob import glob\n",
        "import seaborn as sns\n",
        "from matplotlib import pylab as plt\n",
        "import tensorflow as tf\n",
        "# depenciy handling\n",
        "if tf.__version__ != '2.3.0':\n",
        "    !pip install tensorflow-gpu==2.3.0\n",
        "    \n",
        "import tensorflow_hub as hub\n",
        "import tensorflow_text as text\n",
        "from official.nlp import optimization \n",
        "from google.colab import drive\n",
        "\n",
        "tf.get_logger().setLevel('ERROR')"
      ],
      "execution_count": 5,
      "outputs": []
    },
    {
      "cell_type": "code",
      "metadata": {
        "colab": {
          "base_uri": "https://localhost:8080/"
        },
        "id": "zmI0r3pgarPM",
        "outputId": "efb07b55-a18f-410c-e87b-ae7f5cf19272"
      },
      "source": [
        "drive.mount('/content/drive')"
      ],
      "execution_count": 6,
      "outputs": [
        {
          "output_type": "stream",
          "text": [
            "Drive already mounted at /content/drive; to attempt to forcibly remount, call drive.mount(\"/content/drive\", force_remount=True).\n"
          ],
          "name": "stdout"
        }
      ]
    },
    {
      "cell_type": "markdown",
      "metadata": {
        "id": "BR7y5Ac5buQi"
      },
      "source": [
        "## Read Dataset"
      ]
    },
    {
      "cell_type": "code",
      "metadata": {
        "id": "_ZE8Xa9DaUlc"
      },
      "source": [
        "google_drive_path = '/content/drive/My Drive/sb'\n",
        "\n",
        "def get_dataset(file_name='./data/data.csv'):\n",
        "  return pd.read_csv(os.path.join(google_drive_path, file_name))\n",
        "\n",
        "dataset = get_dataset()"
      ],
      "execution_count": 7,
      "outputs": []
    },
    {
      "cell_type": "code",
      "metadata": {
        "colab": {
          "base_uri": "https://localhost:8080/",
          "height": 204
        },
        "id": "ENIfndmMWJ0y",
        "outputId": "ebfab360-6d23-47bc-e650-db2e87e12d61"
      },
      "source": [
        "dataset.head()"
      ],
      "execution_count": 8,
      "outputs": [
        {
          "output_type": "execute_result",
          "data": {
            "text/html": [
              "<div>\n",
              "<style scoped>\n",
              "    .dataframe tbody tr th:only-of-type {\n",
              "        vertical-align: middle;\n",
              "    }\n",
              "\n",
              "    .dataframe tbody tr th {\n",
              "        vertical-align: top;\n",
              "    }\n",
              "\n",
              "    .dataframe thead th {\n",
              "        text-align: right;\n",
              "    }\n",
              "</style>\n",
              "<table border=\"1\" class=\"dataframe\">\n",
              "  <thead>\n",
              "    <tr style=\"text-align: right;\">\n",
              "      <th></th>\n",
              "      <th>Class</th>\n",
              "      <th>Name</th>\n",
              "    </tr>\n",
              "  </thead>\n",
              "  <tbody>\n",
              "    <tr>\n",
              "      <th>0</th>\n",
              "      <td>1</td>\n",
              "      <td>E. D. Abbott Ltd</td>\n",
              "    </tr>\n",
              "    <tr>\n",
              "      <th>1</th>\n",
              "      <td>1</td>\n",
              "      <td>Schwan-Stabilo</td>\n",
              "    </tr>\n",
              "    <tr>\n",
              "      <th>2</th>\n",
              "      <td>1</td>\n",
              "      <td>Q-workshop</td>\n",
              "    </tr>\n",
              "    <tr>\n",
              "      <th>3</th>\n",
              "      <td>1</td>\n",
              "      <td>Marvell Software Solutions Israel</td>\n",
              "    </tr>\n",
              "    <tr>\n",
              "      <th>4</th>\n",
              "      <td>1</td>\n",
              "      <td>Bergan Mercy Medical Center</td>\n",
              "    </tr>\n",
              "  </tbody>\n",
              "</table>\n",
              "</div>"
            ],
            "text/plain": [
              "   Class                               Name\n",
              "0      1                   E. D. Abbott Ltd\n",
              "1      1                     Schwan-Stabilo\n",
              "2      1                         Q-workshop\n",
              "3      1  Marvell Software Solutions Israel\n",
              "4      1        Bergan Mercy Medical Center"
            ]
          },
          "metadata": {
            "tags": []
          },
          "execution_count": 8
        }
      ]
    },
    {
      "cell_type": "code",
      "metadata": {
        "id": "LhonulhYWJ0z"
      },
      "source": [
        "tf.get_logger().setLevel('INFO')"
      ],
      "execution_count": 9,
      "outputs": []
    },
    {
      "cell_type": "code",
      "metadata": {
        "colab": {
          "base_uri": "https://localhost:8080/"
        },
        "id": "73PpxCsfWJ0z",
        "outputId": "b6bcd2f8-ee19-4e57-dd06-70eaa68fda69"
      },
      "source": [
        "print(f'tensorflow version :{tf.__version__}')"
      ],
      "execution_count": 10,
      "outputs": [
        {
          "output_type": "stream",
          "text": [
            "tensorflow version :2.3.0\n"
          ],
          "name": "stdout"
        }
      ]
    },
    {
      "cell_type": "markdown",
      "metadata": {
        "id": "wOKSWF_4WJ0z"
      },
      "source": [
        "## Read Classes as Look up Table"
      ]
    },
    {
      "cell_type": "code",
      "metadata": {
        "id": "zXYt9afTWJ00"
      },
      "source": [
        "def read_classes_as_tf_lookup_table(filepath='./storage/classes.txt'):\n",
        "    \"\"\"\n",
        "    Reads classes text file and creates as tensorflow lookup table \n",
        "    \n",
        "    params:\n",
        "    - filepath - path to class lookup table\n",
        "    \n",
        "    returns:\n",
        "    - table (tf.lookup.StaticHashTable) - lookup table for classes\n",
        "    \n",
        "    \"\"\"\n",
        "    init = tf.lookup.TextFileInitializer(filename=filepath,\n",
        "                            key_dtype=tf.string, key_index=tf.lookup.TextFileIndex.WHOLE_LINE,\n",
        "                            value_dtype=tf.int64, value_index=tf.lookup.TextFileIndex.LINE_NUMBER)\n",
        "    # initialise  lookup table\n",
        "    table = tf.lookup.StaticHashTable(initializer=init, default_value=-1, name='class_lookup')\n",
        "    return table\n"
      ],
      "execution_count": 11,
      "outputs": []
    },
    {
      "cell_type": "code",
      "metadata": {
        "id": "HoWYZ-h4WJ00"
      },
      "source": [
        "# read classes as lookup\n",
        "tf_class_lookup = read_classes_as_tf_lookup_table(filepath= os.path.join(google_drive_path, './data/classes.txt'))"
      ],
      "execution_count": 12,
      "outputs": []
    },
    {
      "cell_type": "code",
      "metadata": {
        "id": "LDVdQEQVWJ00"
      },
      "source": [
        "# verify lookup table works as expected\n",
        "assert tf_class_lookup.lookup(tf.constant('Building')).numpy() == 6 "
      ],
      "execution_count": 13,
      "outputs": []
    },
    {
      "cell_type": "code",
      "metadata": {
        "colab": {
          "base_uri": "https://localhost:8080/"
        },
        "id": "JKRjMDZle7s0",
        "outputId": "e9c2efd2-ded1-4143-8388-7e45c90ee8cb"
      },
      "source": [
        "num_classes = tf_class_lookup.size().numpy()\n",
        "num_classes \n"
      ],
      "execution_count": 14,
      "outputs": [
        {
          "output_type": "execute_result",
          "data": {
            "text/plain": [
              "14"
            ]
          },
          "metadata": {
            "tags": []
          },
          "execution_count": 14
        }
      ]
    },
    {
      "cell_type": "markdown",
      "metadata": {
        "id": "aj40d4XfWJ01"
      },
      "source": [
        "## Preprocessing "
      ]
    },
    {
      "cell_type": "code",
      "metadata": {
        "id": "_TduKOH1WJ01"
      },
      "source": [
        "# define stopwords from exploratory analysis\n",
        "stopwords = [')', '(', '.', ':', '.']\n",
        "\n",
        "# date check function \n",
        "is_date =  lambda token:  token.isnumeric() and len(token) == 4 and int(token) < 2999\n",
        "# is numeric token \n",
        "is_other_numeric = lambda token: token.isnumeric() and len(token) != 4 \n",
        "\n",
        "def preprocessor(token):\n",
        "    \"\"\"\n",
        "    preprocess tokens to reudce dimensionality of the \n",
        "    vocabulary as explained in our exploratory analysis\n",
        "    \n",
        "    params:\n",
        "        token (string) - token from text\n",
        "    returns:\n",
        "        processed token (string) - processed token\n",
        "    \"\"\"\n",
        "    if is_date(token):\n",
        "        return 'date'\n",
        "    elif is_other_numeric:\n",
        "        return 'number'\n",
        "    else:\n",
        "        return token.lower().strip()"
      ],
      "execution_count": 15,
      "outputs": []
    },
    {
      "cell_type": "code",
      "metadata": {
        "id": "4quKaUQxWJ01"
      },
      "source": [
        "from sklearn.model_selection import train_test_split\n",
        "\n",
        "output_dir='./ner'\n",
        "train_file_path = os.path.join(output_dir, 'train.csv')\n",
        "val_file_path = os.path.join(output_dir, 'val.csv')\n",
        "test_file_path = os.path.join(output_dir, 'test.csv')\n",
        "\n",
        "def train_val_test_split(dataset, target_var, save=True, output_dir='./ner'):\n",
        "    \"\"\"performs train, val and test split on the given dataset\"\"\"\n",
        "    \n",
        "    # Train-Test Split\n",
        "    train_val_df, test_df, _, _ = train_test_split(dataset,dataset[target_var], test_size=0.1)\n",
        "\n",
        "    # Train-Val Split\n",
        "    train_df, val_df,_,_ = train_test_split(train_val_df, train_val_df[target_var], test_size=0.2)\n",
        "    \n",
        "    \n",
        "    if not os.path.exists(output_dir) and save:\n",
        "        os.mkdir(output_dir)\n",
        "    \n",
        "    # show sizes for train test and \n",
        "    print(f'train size: {len(train_df)}')\n",
        "    print(f'val size: {len(val_df)}')\n",
        "    print(f'test size: {len(test_df)}')\n",
        "    \n",
        "    if save:\n",
        "        test_df.to_csv(test_file_path, index=False)\n",
        "        train_df.to_csv(train_file_path, index=False)\n",
        "        val_df.to_csv(val_file_path, index=False)"
      ],
      "execution_count": 16,
      "outputs": []
    },
    {
      "cell_type": "code",
      "metadata": {
        "colab": {
          "base_uri": "https://localhost:8080/"
        },
        "id": "_P_xvtGFWJ02",
        "outputId": "6871149f-66cb-4be6-b30f-ee1937987ef3"
      },
      "source": [
        "# run train, val and test split and store to an output dir for reproducibility\n",
        "train_val_test_split(dataset, 'Class')"
      ],
      "execution_count": 17,
      "outputs": [
        {
          "output_type": "stream",
          "text": [
            "train size: 395126\n",
            "val size: 98782\n",
            "test size: 54879\n"
          ],
          "name": "stdout"
        }
      ]
    },
    {
      "cell_type": "markdown",
      "metadata": {
        "id": "fApWEsDFWJ02"
      },
      "source": [
        "## Prepare Tensorflow Datasets"
      ]
    },
    {
      "cell_type": "code",
      "metadata": {
        "id": "57wU7R7aWJ02"
      },
      "source": [
        "AUTOTUNE = tf.data.experimental.AUTOTUNE\n",
        "batch_size = 32\n",
        "target_class = 'Class'"
      ],
      "execution_count": 18,
      "outputs": []
    },
    {
      "cell_type": "code",
      "metadata": {
        "colab": {
          "base_uri": "https://localhost:8080/"
        },
        "id": "D8ufmIMualEj",
        "outputId": "a326147e-1d11-4058-95cb-f44a04b8dd1a"
      },
      "source": [
        "pd.read_csv(train_file_path)['Class'].value_counts()"
      ],
      "execution_count": 19,
      "outputs": [
        {
          "output_type": "execute_result",
          "data": {
            "text/plain": [
              "7     29014\n",
              "9     28854\n",
              "6     28853\n",
              "11    28829\n",
              "1     28816\n",
              "8     28800\n",
              "12    28798\n",
              "10    28794\n",
              "4     28772\n",
              "2     28763\n",
              "5     28747\n",
              "3     28746\n",
              "13    28689\n",
              "14    20651\n",
              "Name: Class, dtype: int64"
            ]
          },
          "metadata": {
            "tags": []
          },
          "execution_count": 19
        }
      ]
    },
    {
      "cell_type": "code",
      "metadata": {
        "id": "mQVINMHMWJ02"
      },
      "source": [
        "# read train dataset and batch \n",
        "train_batch = tf.data.experimental.make_csv_dataset(\n",
        "    train_file_path,\n",
        "    batch_size=batch_size,\n",
        "    select_columns=['Name', 'Class'],\n",
        "    label_name=target_class).cache().prefetch(buffer_size=AUTOTUNE)\n",
        "\n",
        "# read validation dataset and batch \n",
        "val_batch = tf.data.experimental.make_csv_dataset(\n",
        "    val_file_path, \n",
        "    batch_size=batch_size,\n",
        "    select_columns=['Name', 'Class'],\n",
        "    label_name=target_class).cache().prefetch(buffer_size=AUTOTUNE)\n",
        "\n",
        "# read test dataset and batch \n",
        "test_batch = tf.data.experimental.make_csv_dataset(\n",
        "    test_file_path, \n",
        "    batch_size=batch_size, \n",
        "    select_columns=['Name', 'Class'],\n",
        "    label_name=target_class).cache().prefetch(buffer_size=AUTOTUNE)"
      ],
      "execution_count": 20,
      "outputs": []
    },
    {
      "cell_type": "code",
      "metadata": {
        "colab": {
          "base_uri": "https://localhost:8080/"
        },
        "id": "eYLAE4YqWJ03",
        "outputId": "25dd7001-fd0a-4e6d-e982-f59e94a96741"
      },
      "source": [
        "def test_tf_dataset(tf_dataset):\n",
        "    for feature_batch, label_batch in tf_dataset.take(1):\n",
        "      print(feature_batch)\n",
        "      print(label_batch)\n",
        "      assert len(label_batch) == batch_size\n",
        "      assert max(label_batch) <= 14\n",
        "        \n",
        "test_tf_dataset(train_batch)\n",
        "        "
      ],
      "execution_count": 21,
      "outputs": [
        {
          "output_type": "stream",
          "text": [
            "OrderedDict([('Name', <tf.Tensor: shape=(32,), dtype=string, numpy=\n",
            "array([b'Magic Disk', b'Cal Palmer Memorial Building',\n",
            "       b'Hebron Lutheran Church', b'Steve James (blues musician)',\n",
            "       b'Hypostomus punctatus', b'Psychoneuroendocrinology (journal)',\n",
            "       b'Fearns Community Sports College', b'Cochlianthus',\n",
            "       b'White Eyes (album)', b'Himantoglossum', b'Kalachah',\n",
            "       b'USS Roncador (SS-301)', b'Wayne Tuck Jr.', b'Neocogniauxia',\n",
            "       b'Sheykhan-e Davud Khuni', b'Ibtisam Lutfi',\n",
            "       b'Mr. Monk in Trouble', b'Moynat', b'British Rail Class 128',\n",
            "       b'Shubun University', b'Letov \\xc5\\xa0-31',\n",
            "       b'David Seymour (politician)', b'Alfa Romeo 2600',\n",
            "       b'Gary Pearce (rugby)', b'Perkins-Rockwell House',\n",
            "       b'Between Two Worlds (film)', b'Bulbophyllum armeniacum',\n",
            "       b'Suzy (singer)', b'Sekolah Menengah Kebangsaan Subang Jaya',\n",
            "       b'Out of the Ashes (Defiance album)',\n",
            "       b'Westside School (Gibraltar)', b'Shadowboxer'], dtype=object)>)])\n",
            "tf.Tensor(\n",
            "[12  7  7  3 10 14  2 11 12 11  9  6  4 11  9  3 14  1  6  2  6  5  6  4\n",
            "  7 13 11  3  2 12  2 13], shape=(32,), dtype=int32)\n"
          ],
          "name": "stdout"
        }
      ]
    },
    {
      "cell_type": "markdown",
      "metadata": {
        "id": "D1QCUikHWJ03"
      },
      "source": [
        "## Using Small BERT for NER\n",
        "\n",
        "Here we are going to use a smaller transformer architecture (SmallBERT), which enables us to finetune the model alot of faster compared to the full architecture (i.e. BERT) which has more transformer blocks, hencer more hyperparameters."
      ]
    },
    {
      "cell_type": "code",
      "metadata": {
        "id": "HR-bcAEyWJ03"
      },
      "source": [
        "tf.get_logger().setLevel('ERROR')\n",
        "# bert model map\n",
        "model_map = {\n",
        "    \"small_bert/bert_en_uncased_L-4_H-512_A-8\": 'https://tfhub.dev/tensorflow/small_bert/bert_en_uncased_L-4_H-512_A-8/1'\n",
        "}\n",
        "\n",
        "# bert preprocessor map\n",
        "preprocssor_map = {\n",
        "    \"small_bert/bert_en_uncased_L-4_H-512_A-8\": 'https://tfhub.dev/tensorflow/bert_en_uncased_preprocess/1',\n",
        "}\n",
        "\n",
        "class MultiLayerPerceptronBlock(tf.keras.layers.Layer):\n",
        "    \"\"\" \n",
        "    Multilayer Perceptron Block Using swish a modified sigmoide function \n",
        "    found to perform better than relu in terms\n",
        "    \"\"\"\n",
        "    def __init__(self,num_units=10, layers=None):\n",
        "        super(MultiLayerPerceptronBlock, self).__init__()\n",
        "        if layers is None:\n",
        "          self.layers = [\n",
        "              tf.keras.layers.Dense(units=num_units, activation='swish', name='mlp_h_1'),\n",
        "              tf.keras.layers.Dropout(rate=0.1),\n",
        "              tf.keras.layers.Dense(units=num_units, activation='swish', name='mlp_h_2')\n",
        "          ]\n",
        "        else:\n",
        "          if isinstance(layers, list):\n",
        "            self.layers = layers\n",
        "          else:\n",
        "            raise Exeption(f\"Expected layers to be of type list<tf.keras.layers.*> but got {type(layers)}\")\n",
        "\n",
        "    def call(self, inputs):\n",
        "        layer_output = inputs\n",
        "        for i in range(0, len(self.layers)):\n",
        "          l_i = self.layers[i]\n",
        "          layer_output = l_i(layer_output)\n",
        "        return layer_output\n",
        "\n",
        "\n",
        "def BERTEncoderBlock(bert_architecture='small_bert/bert_en_uncased_L-4_H-512_A-8', \n",
        "                    trainable=True):\n",
        "    \"\"\" Generates and returns a BERT Encoder Block \"\"\"\n",
        "    input_layer = tf.keras.layers.Input(shape=(), dtype=tf.string, \n",
        "                                      name='text')\n",
        "    processor = hub.KerasLayer(preprocssor_map.get(bert_architecture), \n",
        "                           name='preprocessing')\n",
        "    bert_encoder = hub.KerasLayer(model_map.get(bert_architecture), trainable=trainable,\n",
        "                          name='bert_transformer_block_encode')\n",
        "  \n",
        "    encoded_inputs = processor(input_layer)\n",
        "    outputs = bert_encoder(encoded_inputs)\n",
        "    net_output = outputs['pooled_output']\n",
        "\n",
        "    return input_layer, net_output\n",
        "\n",
        "\n",
        "\n",
        "def BERTMLPNerClassifierFactory(bert_architecture='small_bert/bert_en_uncased_L-4_H-512_A-8', \n",
        "                                trainable=True,\n",
        "                                num_classes=14):\n",
        "    \"\"\"\n",
        "    Uses BERT for encoding inputs and outputs\n",
        "    \"\"\"\n",
        "    # intialise \n",
        "    bert_input, bert_out = BERTEncoderBlock(bert_architecture=bert_architecture, \n",
        "                                            trainable=trainable)\n",
        "    # intialise MLP Block\n",
        "    mlp_block = MultiLayerPerceptronBlock()\n",
        "    mlp_out = mlp_block(bert_out)\n",
        "\n",
        "    softmax_layer = tf.keras.layers.Dense(units=num_classes, activation='softmax', \n",
        "                                    name='class_probability')\n",
        "    \n",
        "    class_prob = softmax_layer(mlp_out)\n",
        "\n",
        "    model = tf.keras.Model(inputs=bert_input, outputs=class_prob)\n",
        "\n",
        "    return model\n",
        "\n",
        "\n",
        "\n",
        "\n",
        "class BERTForNER(tf.keras.Model):\n",
        "    \"\"\"\n",
        "    Define our BERForNER Model\n",
        "    Buggy implementation\n",
        "    \"\"\"\n",
        "    def __init__(self, bert_architecture='small_bert/bert_en_uncased_L-4_H-512_A-8', num_classes=14):\n",
        "        super(BERTForNER, self).__init__()\n",
        "        self.bert_architecture = bert_architecture\n",
        "        \n",
        "\n",
        "    def init_preprocessor(self, bert_architecture):\n",
        "        tf_hub_handle = preprocssor_map.get(bert_architecture, None)\n",
        "        if tf_hub_handle:\n",
        "            return hub.KerasLayer(tf_hub_handle, name='BERT_Preprocessor')\n",
        "        else:\n",
        "            raise Exception(f\"Could not find {bert_architecture} in preprocossor map\")\n",
        "    \n",
        "    def init_bert_block(self, bert_architecture, is_training=True):\n",
        "        tf_hub_handle = preprocssor_map.get(bert_architecture, None)\n",
        "        if tf_hub_handle:\n",
        "            return hub.KerasLayer(tf_hub_handle, trainable=is_training, name='BERT_Encoder_Block')\n",
        "        else:\n",
        "            raise Exception(f\"Could not find {bert_architecture} in model map\")\n",
        "\n",
        "    def build(self, input_shape):\n",
        "        # init input layer\n",
        "        self.input_layer = tf.keras.layers.Input(shape=input_shape, \n",
        "                                                dtype=tf.string, \n",
        "                                                 name='text')\n",
        "        # intialise bert preprocessor\n",
        "        self.preprocessor = self.init_preprocessor(self.bert_architecture)\n",
        "        prepocessed_input = self.preprocessor(self.input_layer)\n",
        "\n",
        "        # initlaise bert encoder block\n",
        "        self.bert_transformer_block = self.init_bert_block(self.bert_architecture)\n",
        "        bert_output = self.bert_transformer_block(prepocessed_input)[\"pooled_output\"]\n",
        "\n",
        "        # intiialise mlp block\n",
        "        self.mlp_block = MultiLayerPerceptronBlock()\n",
        "        mlp_output = self.mlp_block(bert_output)\n",
        "        \n",
        "        self.softmax_layer = tf.keras.layers.Dense(num_classes, activation='softmax', name='class_prob')\n",
        "\n",
        "        class_prob = self.softmax_layer(mlp_output)\n",
        "\n",
        "        return tf.keras.Model(inputs=self.input_layer, outputs=class_prob)\n",
        "      \n",
        "    def call(self, inputs):\n",
        "        inputs = self.input_layer(inputs)\n",
        "        encoder_inputs = self.preprocessor(self.input_layer)\n",
        "        bert_pooled_output = self.bert_transformer_block(encoder_inputs)['pooled_output']\n",
        "        mlp_out = self.mlp_block(bert_pooled_output)\n",
        "        class_prob = self.class_prob(mlp_out)\n",
        "        \n",
        "        return class_prob\n"
      ],
      "execution_count": 22,
      "outputs": []
    },
    {
      "cell_type": "markdown",
      "metadata": {
        "id": "NuiaEdCbj-CW"
      },
      "source": [
        "# Tests "
      ]
    },
    {
      "cell_type": "code",
      "metadata": {
        "colab": {
          "base_uri": "https://localhost:8080/"
        },
        "id": "CITo3wqCKtYk",
        "outputId": "08f0a15b-8b1d-4ebe-c49b-7ec4d5b31b56"
      },
      "source": [
        "def test_mlp_block():\n",
        "  \"\"\"Tests MLP Block\"\"\"\n",
        "  model = tf.keras.models.Sequential()\n",
        "  model.add(tf.keras.Input(shape=(16,)))\n",
        "  model.add(MultiLayerPerceptronBlock())\n",
        "  \n",
        "  num_trainable_params = 0\n",
        "  for w in model.trainable_weights:\n",
        "    w_shape = (tuple(w.shape))\n",
        "    if len(w_shape) > 1:\n",
        "      num_trainable_params += tf.math.reduce_prod(w.shape)\n",
        "    else:\n",
        "      num_trainable_params += w_shape[0]\n",
        "\n",
        "  # assert there are 280 trainiable parameter include bias \n",
        "  assert num_trainable_params == 280\n",
        "  model.summary()\n",
        "  print('build and trainable parameter count - test passed!')\n",
        "\n",
        "model = test_mlp_block()"
      ],
      "execution_count": 23,
      "outputs": [
        {
          "output_type": "stream",
          "text": [
            "Model: \"sequential\"\n",
            "_________________________________________________________________\n",
            "Layer (type)                 Output Shape              Param #   \n",
            "=================================================================\n",
            "multi_layer_perceptron_block (None, 10)                280       \n",
            "=================================================================\n",
            "Total params: 280\n",
            "Trainable params: 280\n",
            "Non-trainable params: 0\n",
            "_________________________________________________________________\n",
            "build and trainable parameter count - test passed!\n"
          ],
          "name": "stdout"
        }
      ]
    },
    {
      "cell_type": "code",
      "metadata": {
        "id": "fm-tEEshQTxg"
      },
      "source": [
        "def test_bert_block():\n",
        "  \"\"\" Test BERT Block\"\"\"\n",
        "  bert_input, bert_out = BERTEncoderBlock()\n",
        "  model = tf.keras.Model(bert_input, bert_out)\n",
        "  model.summary()\n",
        "  print('build test passed!')\n"
      ],
      "execution_count": 24,
      "outputs": []
    },
    {
      "cell_type": "code",
      "metadata": {
        "colab": {
          "base_uri": "https://localhost:8080/"
        },
        "id": "hclbC_gzQf5x",
        "outputId": "e63a8a9d-3ad1-4812-cc08-9a4d902615ec"
      },
      "source": [
        "test_bert_block()"
      ],
      "execution_count": 25,
      "outputs": [
        {
          "output_type": "stream",
          "text": [
            "Model: \"functional_1\"\n",
            "__________________________________________________________________________________________________\n",
            "Layer (type)                    Output Shape         Param #     Connected to                     \n",
            "==================================================================================================\n",
            "text (InputLayer)               [(None,)]            0                                            \n",
            "__________________________________________________________________________________________________\n",
            "preprocessing (KerasLayer)      {'input_type_ids': ( 0           text[0][0]                       \n",
            "__________________________________________________________________________________________________\n",
            "bert_transformer_block_encode ( {'sequence_output':  28763649    preprocessing[0][0]              \n",
            "                                                                 preprocessing[0][1]              \n",
            "                                                                 preprocessing[0][2]              \n",
            "==================================================================================================\n",
            "Total params: 28,763,649\n",
            "Trainable params: 28,763,648\n",
            "Non-trainable params: 1\n",
            "__________________________________________________________________________________________________\n",
            "build test passed!\n"
          ],
          "name": "stdout"
        }
      ]
    },
    {
      "cell_type": "code",
      "metadata": {
        "id": "hkH54-TZTiAH"
      },
      "source": [
        "def test_bert_ner_model():\n",
        "  \"\"\"Test the combination of BERT AND MLP Block\"\"\"\n",
        "  bert_input, bert_out = BERTEncoderBlock()\n",
        "  mlp_block = MultiLayerPerceptronBlock()\n",
        "\n",
        "  mlp_out = mlp_block(bert_out)\n",
        "\n",
        "  model = tf.keras.Model(inputs=bert_input, outputs=mlp_out)\n",
        "  model.summary()\n",
        "  print('build test passed!')"
      ],
      "execution_count": 26,
      "outputs": []
    },
    {
      "cell_type": "code",
      "metadata": {
        "colab": {
          "base_uri": "https://localhost:8080/"
        },
        "id": "XUaLh9DwT6Dn",
        "outputId": "f673e6dd-2d5b-4c5e-821a-675550272b5f"
      },
      "source": [
        "test_bert_ner_model()"
      ],
      "execution_count": 27,
      "outputs": [
        {
          "output_type": "stream",
          "text": [
            "Model: \"functional_3\"\n",
            "__________________________________________________________________________________________________\n",
            "Layer (type)                    Output Shape         Param #     Connected to                     \n",
            "==================================================================================================\n",
            "text (InputLayer)               [(None,)]            0                                            \n",
            "__________________________________________________________________________________________________\n",
            "preprocessing (KerasLayer)      {'input_word_ids': ( 0           text[0][0]                       \n",
            "__________________________________________________________________________________________________\n",
            "bert_transformer_block_encode ( {'sequence_output':  28763649    preprocessing[0][0]              \n",
            "                                                                 preprocessing[0][1]              \n",
            "                                                                 preprocessing[0][2]              \n",
            "__________________________________________________________________________________________________\n",
            "multi_layer_perceptron_block_1  (None, 10)           5240        bert_transformer_block_encode[0][\n",
            "==================================================================================================\n",
            "Total params: 28,768,889\n",
            "Trainable params: 28,768,888\n",
            "Non-trainable params: 1\n",
            "__________________________________________________________________________________________________\n",
            "build test passed!\n"
          ],
          "name": "stdout"
        }
      ]
    },
    {
      "cell_type": "code",
      "metadata": {
        "id": "kVM1W7CgWdFQ"
      },
      "source": [
        "def test_BERTMLPNerClassifierFactory():\n",
        "  \"\"\" Tests BERTMLP NER classifier factory\"\"\"\n",
        "  bert_mlp_ner_classifier = BERTMLPNerClassifierFactory()\n",
        "  bert_mlp_ner_classifier.summary()\n",
        "  print('build test passed!')\n",
        "\n",
        "  bert_mlp_ner_classifier(tf.constant([\"Street Beez\"]))"
      ],
      "execution_count": 28,
      "outputs": []
    },
    {
      "cell_type": "code",
      "metadata": {
        "colab": {
          "base_uri": "https://localhost:8080/"
        },
        "id": "Y2jx2Dr_XetH",
        "outputId": "42c524fe-a651-4534-ad0c-e614d61a5184"
      },
      "source": [
        "test_BERTMLPNerClassifierFactory()"
      ],
      "execution_count": 29,
      "outputs": [
        {
          "output_type": "stream",
          "text": [
            "Model: \"functional_5\"\n",
            "__________________________________________________________________________________________________\n",
            "Layer (type)                    Output Shape         Param #     Connected to                     \n",
            "==================================================================================================\n",
            "text (InputLayer)               [(None,)]            0                                            \n",
            "__________________________________________________________________________________________________\n",
            "preprocessing (KerasLayer)      {'input_type_ids': ( 0           text[0][0]                       \n",
            "__________________________________________________________________________________________________\n",
            "bert_transformer_block_encode ( {'pooled_output': (N 28763649    preprocessing[0][0]              \n",
            "                                                                 preprocessing[0][1]              \n",
            "                                                                 preprocessing[0][2]              \n",
            "__________________________________________________________________________________________________\n",
            "multi_layer_perceptron_block_2  (None, 10)           5240        bert_transformer_block_encode[0][\n",
            "__________________________________________________________________________________________________\n",
            "class_probability (Dense)       (None, 14)           154         multi_layer_perceptron_block_2[0]\n",
            "==================================================================================================\n",
            "Total params: 28,769,043\n",
            "Trainable params: 28,769,042\n",
            "Non-trainable params: 1\n",
            "__________________________________________________________________________________________________\n",
            "build test passed!\n"
          ],
          "name": "stdout"
        }
      ]
    },
    {
      "cell_type": "markdown",
      "metadata": {
        "id": "7QQNg-bqXIPV"
      },
      "source": [
        "## BERT-MLP NER Classifier\n",
        "\n",
        "Here we are using the BERTMLP Classifier factory to create an end-to-end model that consists of a pretrained BERT Encoder an MLP block consists of dropout and a softmax layer for predicting class probability.\n",
        "\n",
        "For the pupose of this excercise, we will be using limited parameters for the \n",
        "factory method, however if we were considering doing hyperparameter search \n",
        "we can inlcude other hyperparameters as parameters to the factory. This will then allow us to use alogirhtms that are able to handle both discrete and continous search spaces (such as is the case for neural network parameters)."
      ]
    },
    {
      "cell_type": "code",
      "metadata": {
        "id": "lWaJp1WyZ6B0"
      },
      "source": [
        "# generate instance of BERT-MLP NER Classifier\n",
        "bert_mlp_ner_classifier = BERTMLPNerClassifierFactory(num_classes=15)"
      ],
      "execution_count": 49,
      "outputs": []
    },
    {
      "cell_type": "code",
      "metadata": {
        "colab": {
          "base_uri": "https://localhost:8080/"
        },
        "id": "IuVnCAc8Z8mY",
        "outputId": "a42fff27-b784-469d-d924-dcfea0a4a6c1"
      },
      "source": [
        "# print network summary\n",
        "bert_mlp_ner_classifier.summary()"
      ],
      "execution_count": 50,
      "outputs": [
        {
          "output_type": "stream",
          "text": [
            "Model: \"functional_9\"\n",
            "__________________________________________________________________________________________________\n",
            "Layer (type)                    Output Shape         Param #     Connected to                     \n",
            "==================================================================================================\n",
            "text (InputLayer)               [(None,)]            0                                            \n",
            "__________________________________________________________________________________________________\n",
            "preprocessing (KerasLayer)      {'input_word_ids': ( 0           text[0][0]                       \n",
            "__________________________________________________________________________________________________\n",
            "bert_transformer_block_encode ( {'pooled_output': (N 28763649    preprocessing[0][0]              \n",
            "                                                                 preprocessing[0][1]              \n",
            "                                                                 preprocessing[0][2]              \n",
            "__________________________________________________________________________________________________\n",
            "multi_layer_perceptron_block_4  (None, 10)           5240        bert_transformer_block_encode[0][\n",
            "__________________________________________________________________________________________________\n",
            "class_probability (Dense)       (None, 15)           165         multi_layer_perceptron_block_4[0]\n",
            "==================================================================================================\n",
            "Total params: 28,769,054\n",
            "Trainable params: 28,769,053\n",
            "Non-trainable params: 1\n",
            "__________________________________________________________________________________________________\n"
          ],
          "name": "stdout"
        }
      ]
    },
    {
      "cell_type": "code",
      "metadata": {
        "colab": {
          "base_uri": "https://localhost:8080/",
          "height": 466
        },
        "id": "ETObxMuAaJQB",
        "outputId": "f0c44098-bca5-44c5-94dd-255856f23f71"
      },
      "source": [
        "# Visualise the computation graph for our model\n",
        "tf.keras.utils.plot_model(bert_mlp_ner_classifier)"
      ],
      "execution_count": 51,
      "outputs": [
        {
          "output_type": "execute_result",
          "data": {
            "image/png": "[encoded data removed]",
            "text/plain": [
              "<IPython.core.display.Image object>"
            ]
          },
          "metadata": {
            "tags": []
          },
          "execution_count": 51
        }
      ]
    },
    {
      "cell_type": "markdown",
      "metadata": {
        "id": "CiUm_ZjOaX60"
      },
      "source": [
        "## Optimisation\n",
        "\n",
        "In terms of optimisation, we will be using categorical cross entropy given that the objective is to predict NER and that is single label classification. "
      ]
    },
    {
      "cell_type": "code",
      "metadata": {
        "id": "PWVrN7LHWJ05"
      },
      "source": [
        "loss = tf.keras.losses.SparseCategoricalCrossentropy(from_logits=True)\n",
        "metrics = [tf.metrics.Precision(),\n",
        "           tf.metrics.Recall(),\n",
        "           tf.keras.metrics.Accuracy(),\n",
        "           loss]"
      ],
      "execution_count": 52,
      "outputs": []
    },
    {
      "cell_type": "code",
      "metadata": {
        "id": "nKPlS_Yebs4W"
      },
      "source": [
        "epochs = 5\n",
        "steps_per_epoch = tf.data.experimental.cardinality(train_batch).numpy()\n",
        "num_train_steps = steps_per_epoch * epochs\n",
        "num_warmup_steps = int(0.1*num_train_steps)\n",
        "\n",
        "init_lr = 3e-5\n",
        "optimizer = optimization.create_optimizer(init_lr=init_lr,\n",
        "                                          num_train_steps=num_train_steps,\n",
        "                                          num_warmup_steps=num_warmup_steps,\n",
        "                                          optimizer_type='adamw')"
      ],
      "execution_count": 58,
      "outputs": []
    },
    {
      "cell_type": "code",
      "metadata": {
        "id": "8RYr7uF2b0Rd"
      },
      "source": [
        "bert_mlp_ner_classifier.compile(optimizer=optimizer,\n",
        "                         loss='sparse_categorical_crossentropy',\n",
        "                         metrics=[tf.keras.metrics.SparseCategoricalAccuracy()])"
      ],
      "execution_count": 61,
      "outputs": []
    },
    {
      "cell_type": "markdown",
      "metadata": {
        "id": "KA9GTBb_WJ05"
      },
      "source": [
        "##  Train Model"
      ]
    },
    {
      "cell_type": "code",
      "metadata": {
        "colab": {
          "base_uri": "https://localhost:8080/"
        },
        "id": "quXh3QE6WJ05",
        "outputId": "887ac1a5-3ca1-4619-d362-f1dbf6ee0040"
      },
      "source": [
        "history = bert_mlp_ner_classifier.fit(x=train_batch,\n",
        "                               validation_data=val_batch,\n",
        "                               epochs=5)"
      ],
      "execution_count": null,
      "outputs": [
        {
          "output_type": "stream",
          "text": [
            "Epoch 1/5\n",
            "     81/Unknown - 611s 8s/step - loss: 2.6233 - sparse_categorical_accuracy: 0.1435"
          ],
          "name": "stdout"
        }
      ]
    },
    {
      "cell_type": "code",
      "metadata": {
        "id": "FGICcvpDWJ05"
      },
      "source": [
        ""
      ],
      "execution_count": null,
      "outputs": []
    },
    {
      "cell_type": "code",
      "metadata": {
        "id": "zqsHZJMPWJ05"
      },
      "source": [
        ""
      ],
      "execution_count": null,
      "outputs": []
    }
  ]
}